{
  "nbformat": 4,
  "nbformat_minor": 0,
  "metadata": {
    "colab": {
      "provenance": []
    },
    "kernelspec": {
      "name": "python3",
      "display_name": "Python 3"
    },
    "language_info": {
      "name": "python"
    }
  },
  "cells": [
    {
      "cell_type": "code",
      "execution_count": 10,
      "metadata": {
        "id": "f7hkz3ex9ClQ"
      },
      "outputs": [],
      "source": [
        "import pandas as pd\n",
        "#from sklearn.ensemble import RandomForestRegressor\n",
        "import tensorflow as tf\n",
        "import numpy as np\n",
        "import matplotlib.pyplot as plt\n",
        "#import pandas as pd\n",
        "import seaborn as sns\n",
        "from sklearn.metrics import mean_squared_error, r2_score\n"
      ]
    },
    {
      "cell_type": "code",
      "source": [
        "df=pd.read_csv(\"/content/drive/MyDrive/tallerpython_ML/DatosAzcapo.txt\",sep=',',header=None)"
      ],
      "metadata": {
        "id": "TLqcrCpRIrUB"
      },
      "execution_count": 9,
      "outputs": []
    },
    {
      "cell_type": "code",
      "source": [
        "df['fechas']=pd.to_datetime(df[0])\n",
        "df=df.set_index('fechas')"
      ],
      "metadata": {
        "colab": {
          "base_uri": "https://localhost:8080/"
        },
        "id": "ZovVuWPUJHUh",
        "outputId": "78d01d4c-d34f-49ff-8fc2-b0e37a53d304"
      },
      "execution_count": 11,
      "outputs": [
        {
          "output_type": "stream",
          "name": "stderr",
          "text": [
            "<ipython-input-11-f5f18913dd5c>:1: UserWarning: Could not infer format, so each element will be parsed individually, falling back to `dateutil`. To ensure parsing is consistent and as-expected, please specify a format.\n",
            "  df['fechas']=pd.to_datetime(df[0])\n"
          ]
        }
      ]
    },
    {
      "cell_type": "code",
      "source": [
        "df.head()"
      ],
      "metadata": {
        "colab": {
          "base_uri": "https://localhost:8080/",
          "height": 238
        },
        "id": "WSI6ZJAcZ9Ps",
        "outputId": "7e7bcdb0-6c0d-4040-fa18-1e38cb2430cc"
      },
      "execution_count": 20,
      "outputs": [
        {
          "output_type": "execute_result",
          "data": {
            "text/plain": [
              "                                        0                     1          2  \\\n",
              "fechas                                                                       \n",
              "2024-04-04 00:00:00  4/4/2024 12:00:00 AM   4/4/2024 6:00:00 AM  28.692070   \n",
              "2024-04-04 00:01:00  4/4/2024 12:01:00 AM   4/4/2024 6:01:00 AM  32.022658   \n",
              "2024-04-04 00:02:00  4/4/2024 12:02:00 AM   4/4/2024 6:02:00 AM  32.219123   \n",
              "2024-04-04 00:03:00  4/4/2024 12:03:00 AM   4/4/2024 6:03:00 AM  31.586301   \n",
              "2024-04-04 00:04:00  4/4/2024 12:04:00 AM   4/4/2024 6:04:00 AM  32.534500   \n",
              "\n",
              "                             3          4          5          6          7  \\\n",
              "fechas                                                                       \n",
              "2024-04-04 00:00:00  14.742066  13.950004  23.128830  19.350910  77.827011   \n",
              "2024-04-04 00:01:00  14.771019  17.251640  23.148970  19.340763  77.817986   \n",
              "2024-04-04 00:02:00  14.717249  17.501873  23.169109  19.335342  77.820869   \n",
              "2024-04-04 00:03:00  14.659344  16.926957  23.169109  19.330561  77.814812   \n",
              "2024-04-04 00:04:00  14.676922  17.857577  23.199320  19.308531  77.830132   \n",
              "\n",
              "                             8          9         10         11        12  \n",
              "fechas                                                                     \n",
              "2024-04-04 00:00:00  28.035599  25.874756  33.960640  11.665325  5.025064  \n",
              "2024-04-04 00:01:00  27.919699  25.910034  33.966431  11.671605  5.068029  \n",
              "2024-04-04 00:02:00  27.938000  25.910950  33.988586  11.663702  5.003208  \n",
              "2024-04-04 00:03:00  27.956299  25.925995  33.997185  11.670901  4.931069  \n",
              "2024-04-04 00:04:00  27.956299  25.948059  34.013283  11.678738  5.000206  "
            ],
            "text/html": [
              "\n",
              "  <div id=\"df-a0f74268-8aca-4710-88e5-2edb2d34a173\" class=\"colab-df-container\">\n",
              "    <div>\n",
              "<style scoped>\n",
              "    .dataframe tbody tr th:only-of-type {\n",
              "        vertical-align: middle;\n",
              "    }\n",
              "\n",
              "    .dataframe tbody tr th {\n",
              "        vertical-align: top;\n",
              "    }\n",
              "\n",
              "    .dataframe thead th {\n",
              "        text-align: right;\n",
              "    }\n",
              "</style>\n",
              "<table border=\"1\" class=\"dataframe\">\n",
              "  <thead>\n",
              "    <tr style=\"text-align: right;\">\n",
              "      <th></th>\n",
              "      <th>0</th>\n",
              "      <th>1</th>\n",
              "      <th>2</th>\n",
              "      <th>3</th>\n",
              "      <th>4</th>\n",
              "      <th>5</th>\n",
              "      <th>6</th>\n",
              "      <th>7</th>\n",
              "      <th>8</th>\n",
              "      <th>9</th>\n",
              "      <th>10</th>\n",
              "      <th>11</th>\n",
              "      <th>12</th>\n",
              "    </tr>\n",
              "    <tr>\n",
              "      <th>fechas</th>\n",
              "      <th></th>\n",
              "      <th></th>\n",
              "      <th></th>\n",
              "      <th></th>\n",
              "      <th></th>\n",
              "      <th></th>\n",
              "      <th></th>\n",
              "      <th></th>\n",
              "      <th></th>\n",
              "      <th></th>\n",
              "      <th></th>\n",
              "      <th></th>\n",
              "      <th></th>\n",
              "    </tr>\n",
              "  </thead>\n",
              "  <tbody>\n",
              "    <tr>\n",
              "      <th>2024-04-04 00:00:00</th>\n",
              "      <td>4/4/2024 12:00:00 AM</td>\n",
              "      <td>4/4/2024 6:00:00 AM</td>\n",
              "      <td>28.692070</td>\n",
              "      <td>14.742066</td>\n",
              "      <td>13.950004</td>\n",
              "      <td>23.128830</td>\n",
              "      <td>19.350910</td>\n",
              "      <td>77.827011</td>\n",
              "      <td>28.035599</td>\n",
              "      <td>25.874756</td>\n",
              "      <td>33.960640</td>\n",
              "      <td>11.665325</td>\n",
              "      <td>5.025064</td>\n",
              "    </tr>\n",
              "    <tr>\n",
              "      <th>2024-04-04 00:01:00</th>\n",
              "      <td>4/4/2024 12:01:00 AM</td>\n",
              "      <td>4/4/2024 6:01:00 AM</td>\n",
              "      <td>32.022658</td>\n",
              "      <td>14.771019</td>\n",
              "      <td>17.251640</td>\n",
              "      <td>23.148970</td>\n",
              "      <td>19.340763</td>\n",
              "      <td>77.817986</td>\n",
              "      <td>27.919699</td>\n",
              "      <td>25.910034</td>\n",
              "      <td>33.966431</td>\n",
              "      <td>11.671605</td>\n",
              "      <td>5.068029</td>\n",
              "    </tr>\n",
              "    <tr>\n",
              "      <th>2024-04-04 00:02:00</th>\n",
              "      <td>4/4/2024 12:02:00 AM</td>\n",
              "      <td>4/4/2024 6:02:00 AM</td>\n",
              "      <td>32.219123</td>\n",
              "      <td>14.717249</td>\n",
              "      <td>17.501873</td>\n",
              "      <td>23.169109</td>\n",
              "      <td>19.335342</td>\n",
              "      <td>77.820869</td>\n",
              "      <td>27.938000</td>\n",
              "      <td>25.910950</td>\n",
              "      <td>33.988586</td>\n",
              "      <td>11.663702</td>\n",
              "      <td>5.003208</td>\n",
              "    </tr>\n",
              "    <tr>\n",
              "      <th>2024-04-04 00:03:00</th>\n",
              "      <td>4/4/2024 12:03:00 AM</td>\n",
              "      <td>4/4/2024 6:03:00 AM</td>\n",
              "      <td>31.586301</td>\n",
              "      <td>14.659344</td>\n",
              "      <td>16.926957</td>\n",
              "      <td>23.169109</td>\n",
              "      <td>19.330561</td>\n",
              "      <td>77.814812</td>\n",
              "      <td>27.956299</td>\n",
              "      <td>25.925995</td>\n",
              "      <td>33.997185</td>\n",
              "      <td>11.670901</td>\n",
              "      <td>4.931069</td>\n",
              "    </tr>\n",
              "    <tr>\n",
              "      <th>2024-04-04 00:04:00</th>\n",
              "      <td>4/4/2024 12:04:00 AM</td>\n",
              "      <td>4/4/2024 6:04:00 AM</td>\n",
              "      <td>32.534500</td>\n",
              "      <td>14.676922</td>\n",
              "      <td>17.857577</td>\n",
              "      <td>23.199320</td>\n",
              "      <td>19.308531</td>\n",
              "      <td>77.830132</td>\n",
              "      <td>27.956299</td>\n",
              "      <td>25.948059</td>\n",
              "      <td>34.013283</td>\n",
              "      <td>11.678738</td>\n",
              "      <td>5.000206</td>\n",
              "    </tr>\n",
              "  </tbody>\n",
              "</table>\n",
              "</div>\n",
              "    <div class=\"colab-df-buttons\">\n",
              "\n",
              "  <div class=\"colab-df-container\">\n",
              "    <button class=\"colab-df-convert\" onclick=\"convertToInteractive('df-a0f74268-8aca-4710-88e5-2edb2d34a173')\"\n",
              "            title=\"Convert this dataframe to an interactive table.\"\n",
              "            style=\"display:none;\">\n",
              "\n",
              "  <svg xmlns=\"http://www.w3.org/2000/svg\" height=\"24px\" viewBox=\"0 -960 960 960\">\n",
              "    <path d=\"M120-120v-720h720v720H120Zm60-500h600v-160H180v160Zm220 220h160v-160H400v160Zm0 220h160v-160H400v160ZM180-400h160v-160H180v160Zm440 0h160v-160H620v160ZM180-180h160v-160H180v160Zm440 0h160v-160H620v160Z\"/>\n",
              "  </svg>\n",
              "    </button>\n",
              "\n",
              "  <style>\n",
              "    .colab-df-container {\n",
              "      display:flex;\n",
              "      gap: 12px;\n",
              "    }\n",
              "\n",
              "    .colab-df-convert {\n",
              "      background-color: #E8F0FE;\n",
              "      border: none;\n",
              "      border-radius: 50%;\n",
              "      cursor: pointer;\n",
              "      display: none;\n",
              "      fill: #1967D2;\n",
              "      height: 32px;\n",
              "      padding: 0 0 0 0;\n",
              "      width: 32px;\n",
              "    }\n",
              "\n",
              "    .colab-df-convert:hover {\n",
              "      background-color: #E2EBFA;\n",
              "      box-shadow: 0px 1px 2px rgba(60, 64, 67, 0.3), 0px 1px 3px 1px rgba(60, 64, 67, 0.15);\n",
              "      fill: #174EA6;\n",
              "    }\n",
              "\n",
              "    .colab-df-buttons div {\n",
              "      margin-bottom: 4px;\n",
              "    }\n",
              "\n",
              "    [theme=dark] .colab-df-convert {\n",
              "      background-color: #3B4455;\n",
              "      fill: #D2E3FC;\n",
              "    }\n",
              "\n",
              "    [theme=dark] .colab-df-convert:hover {\n",
              "      background-color: #434B5C;\n",
              "      box-shadow: 0px 1px 3px 1px rgba(0, 0, 0, 0.15);\n",
              "      filter: drop-shadow(0px 1px 2px rgba(0, 0, 0, 0.3));\n",
              "      fill: #FFFFFF;\n",
              "    }\n",
              "  </style>\n",
              "\n",
              "    <script>\n",
              "      const buttonEl =\n",
              "        document.querySelector('#df-a0f74268-8aca-4710-88e5-2edb2d34a173 button.colab-df-convert');\n",
              "      buttonEl.style.display =\n",
              "        google.colab.kernel.accessAllowed ? 'block' : 'none';\n",
              "\n",
              "      async function convertToInteractive(key) {\n",
              "        const element = document.querySelector('#df-a0f74268-8aca-4710-88e5-2edb2d34a173');\n",
              "        const dataTable =\n",
              "          await google.colab.kernel.invokeFunction('convertToInteractive',\n",
              "                                                    [key], {});\n",
              "        if (!dataTable) return;\n",
              "\n",
              "        const docLinkHtml = 'Like what you see? Visit the ' +\n",
              "          '<a target=\"_blank\" href=https://colab.research.google.com/notebooks/data_table.ipynb>data table notebook</a>'\n",
              "          + ' to learn more about interactive tables.';\n",
              "        element.innerHTML = '';\n",
              "        dataTable['output_type'] = 'display_data';\n",
              "        await google.colab.output.renderOutput(dataTable, element);\n",
              "        const docLink = document.createElement('div');\n",
              "        docLink.innerHTML = docLinkHtml;\n",
              "        element.appendChild(docLink);\n",
              "      }\n",
              "    </script>\n",
              "  </div>\n",
              "\n",
              "\n",
              "<div id=\"df-ff929390-2bff-41d3-9632-82b582bf2332\">\n",
              "  <button class=\"colab-df-quickchart\" onclick=\"quickchart('df-ff929390-2bff-41d3-9632-82b582bf2332')\"\n",
              "            title=\"Suggest charts\"\n",
              "            style=\"display:none;\">\n",
              "\n",
              "<svg xmlns=\"http://www.w3.org/2000/svg\" height=\"24px\"viewBox=\"0 0 24 24\"\n",
              "     width=\"24px\">\n",
              "    <g>\n",
              "        <path d=\"M19 3H5c-1.1 0-2 .9-2 2v14c0 1.1.9 2 2 2h14c1.1 0 2-.9 2-2V5c0-1.1-.9-2-2-2zM9 17H7v-7h2v7zm4 0h-2V7h2v10zm4 0h-2v-4h2v4z\"/>\n",
              "    </g>\n",
              "</svg>\n",
              "  </button>\n",
              "\n",
              "<style>\n",
              "  .colab-df-quickchart {\n",
              "      --bg-color: #E8F0FE;\n",
              "      --fill-color: #1967D2;\n",
              "      --hover-bg-color: #E2EBFA;\n",
              "      --hover-fill-color: #174EA6;\n",
              "      --disabled-fill-color: #AAA;\n",
              "      --disabled-bg-color: #DDD;\n",
              "  }\n",
              "\n",
              "  [theme=dark] .colab-df-quickchart {\n",
              "      --bg-color: #3B4455;\n",
              "      --fill-color: #D2E3FC;\n",
              "      --hover-bg-color: #434B5C;\n",
              "      --hover-fill-color: #FFFFFF;\n",
              "      --disabled-bg-color: #3B4455;\n",
              "      --disabled-fill-color: #666;\n",
              "  }\n",
              "\n",
              "  .colab-df-quickchart {\n",
              "    background-color: var(--bg-color);\n",
              "    border: none;\n",
              "    border-radius: 50%;\n",
              "    cursor: pointer;\n",
              "    display: none;\n",
              "    fill: var(--fill-color);\n",
              "    height: 32px;\n",
              "    padding: 0;\n",
              "    width: 32px;\n",
              "  }\n",
              "\n",
              "  .colab-df-quickchart:hover {\n",
              "    background-color: var(--hover-bg-color);\n",
              "    box-shadow: 0 1px 2px rgba(60, 64, 67, 0.3), 0 1px 3px 1px rgba(60, 64, 67, 0.15);\n",
              "    fill: var(--button-hover-fill-color);\n",
              "  }\n",
              "\n",
              "  .colab-df-quickchart-complete:disabled,\n",
              "  .colab-df-quickchart-complete:disabled:hover {\n",
              "    background-color: var(--disabled-bg-color);\n",
              "    fill: var(--disabled-fill-color);\n",
              "    box-shadow: none;\n",
              "  }\n",
              "\n",
              "  .colab-df-spinner {\n",
              "    border: 2px solid var(--fill-color);\n",
              "    border-color: transparent;\n",
              "    border-bottom-color: var(--fill-color);\n",
              "    animation:\n",
              "      spin 1s steps(1) infinite;\n",
              "  }\n",
              "\n",
              "  @keyframes spin {\n",
              "    0% {\n",
              "      border-color: transparent;\n",
              "      border-bottom-color: var(--fill-color);\n",
              "      border-left-color: var(--fill-color);\n",
              "    }\n",
              "    20% {\n",
              "      border-color: transparent;\n",
              "      border-left-color: var(--fill-color);\n",
              "      border-top-color: var(--fill-color);\n",
              "    }\n",
              "    30% {\n",
              "      border-color: transparent;\n",
              "      border-left-color: var(--fill-color);\n",
              "      border-top-color: var(--fill-color);\n",
              "      border-right-color: var(--fill-color);\n",
              "    }\n",
              "    40% {\n",
              "      border-color: transparent;\n",
              "      border-right-color: var(--fill-color);\n",
              "      border-top-color: var(--fill-color);\n",
              "    }\n",
              "    60% {\n",
              "      border-color: transparent;\n",
              "      border-right-color: var(--fill-color);\n",
              "    }\n",
              "    80% {\n",
              "      border-color: transparent;\n",
              "      border-right-color: var(--fill-color);\n",
              "      border-bottom-color: var(--fill-color);\n",
              "    }\n",
              "    90% {\n",
              "      border-color: transparent;\n",
              "      border-bottom-color: var(--fill-color);\n",
              "    }\n",
              "  }\n",
              "</style>\n",
              "\n",
              "  <script>\n",
              "    async function quickchart(key) {\n",
              "      const quickchartButtonEl =\n",
              "        document.querySelector('#' + key + ' button');\n",
              "      quickchartButtonEl.disabled = true;  // To prevent multiple clicks.\n",
              "      quickchartButtonEl.classList.add('colab-df-spinner');\n",
              "      try {\n",
              "        const charts = await google.colab.kernel.invokeFunction(\n",
              "            'suggestCharts', [key], {});\n",
              "      } catch (error) {\n",
              "        console.error('Error during call to suggestCharts:', error);\n",
              "      }\n",
              "      quickchartButtonEl.classList.remove('colab-df-spinner');\n",
              "      quickchartButtonEl.classList.add('colab-df-quickchart-complete');\n",
              "    }\n",
              "    (() => {\n",
              "      let quickchartButtonEl =\n",
              "        document.querySelector('#df-ff929390-2bff-41d3-9632-82b582bf2332 button');\n",
              "      quickchartButtonEl.style.display =\n",
              "        google.colab.kernel.accessAllowed ? 'block' : 'none';\n",
              "    })();\n",
              "  </script>\n",
              "</div>\n",
              "\n",
              "    </div>\n",
              "  </div>\n"
            ],
            "application/vnd.google.colaboratory.intrinsic+json": {
              "type": "dataframe",
              "variable_name": "df",
              "summary": "{\n  \"name\": \"df\",\n  \"rows\": 52179,\n  \"fields\": [\n    {\n      \"column\": \"fechas\",\n      \"properties\": {\n        \"dtype\": \"date\",\n        \"min\": \"2024-04-04 00:00:00\",\n        \"max\": \"2024-05-10 11:04:00\",\n        \"num_unique_values\": 52179,\n        \"samples\": [\n          \"2024-04-18 09:42:00\",\n          \"2024-04-26 03:40:00\",\n          \"2024-04-16 01:55:00\"\n        ],\n        \"semantic_type\": \"\",\n        \"description\": \"\"\n      }\n    },\n    {\n      \"column\": 0,\n      \"properties\": {\n        \"dtype\": \"object\",\n        \"num_unique_values\": 52179,\n        \"samples\": [\n          \"4/18/2024 9:42:00 AM\",\n          \"4/26/2024 3:40:00 AM\",\n          \"4/16/2024 1:55:00 AM\"\n        ],\n        \"semantic_type\": \"\",\n        \"description\": \"\"\n      }\n    },\n    {\n      \"column\": 1,\n      \"properties\": {\n        \"dtype\": \"object\",\n        \"num_unique_values\": 52179,\n        \"samples\": [\n          \" 4/18/2024 2:42:00 PM\",\n          \" 4/26/2024 8:40:00 AM\",\n          \" 4/16/2024 6:55:00 AM\"\n        ],\n        \"semantic_type\": \"\",\n        \"description\": \"\"\n      }\n    },\n    {\n      \"column\": 2,\n      \"properties\": {\n        \"dtype\": \"number\",\n        \"std\": 29.020280450487203,\n        \"min\": 17.970285717,\n        \"max\": 496.888378397,\n        \"num_unique_values\": 38195,\n        \"samples\": [\n          66.762729018,\n          48.649748127,\n          47.336538917\n        ],\n        \"semantic_type\": \"\",\n        \"description\": \"\"\n      }\n    },\n    {\n      \"column\": 3,\n      \"properties\": {\n        \"dtype\": \"number\",\n        \"std\": 12.812088035189765,\n        \"min\": 5.008807412,\n        \"max\": 88.641621675,\n        \"num_unique_values\": 30703,\n        \"samples\": [\n          48.744878243,\n          19.282460904,\n          50.527533895\n        ],\n        \"semantic_type\": \"\",\n        \"description\": \"\"\n      }\n    },\n    {\n      \"column\": 4,\n      \"properties\": {\n        \"dtype\": \"number\",\n        \"std\": 23.891132558875622,\n        \"min\": 5.647833626,\n        \"max\": 423.593726088,\n        \"num_unique_values\": 33628,\n        \"samples\": [\n          37.072826619,\n          56.867128908,\n          26.630228342\n        ],\n        \"semantic_type\": \"\",\n        \"description\": \"\"\n      }\n    },\n    {\n      \"column\": 5,\n      \"properties\": {\n        \"dtype\": \"number\",\n        \"std\": 2.185890377981999,\n        \"min\": 20.2790184020996,\n        \"max\": 33.7426071166992,\n        \"num_unique_values\": 915,\n        \"samples\": [\n          25.5254898071289,\n          29.7146091461182,\n          25.8678684234619\n        ],\n        \"semantic_type\": \"\",\n        \"description\": \"\"\n      }\n    },\n    {\n      \"column\": 6,\n      \"properties\": {\n        \"dtype\": \"number\",\n        \"std\": 5.304147641016905,\n        \"min\": 11.7930173873901,\n        \"max\": 35.5083999633789,\n        \"num_unique_values\": 52046,\n        \"samples\": [\n          25.6569747924805,\n          21.0287532806396,\n          20.8056354522705\n        ],\n        \"semantic_type\": \"\",\n        \"description\": \"\"\n      }\n    },\n    {\n      \"column\": 7,\n      \"properties\": {\n        \"dtype\": \"number\",\n        \"std\": 0.19204767165908562,\n        \"min\": 77.541389465332,\n        \"max\": 78.640510559082,\n        \"num_unique_values\": 30304,\n        \"samples\": [\n          77.9629898071289,\n          77.9652481079102,\n          77.8208999633789\n        ],\n        \"semantic_type\": \"\",\n        \"description\": \"\"\n      }\n    },\n    {\n      \"column\": 8,\n      \"properties\": {\n        \"dtype\": \"number\",\n        \"std\": 5.031043195355009,\n        \"min\": 13.0356998443604,\n        \"max\": 50.3371963500977,\n        \"num_unique_values\": 1255,\n        \"samples\": [\n          45.1521987915039,\n          31.768798828125,\n          28.6333999633789\n        ],\n        \"semantic_type\": \"\",\n        \"description\": \"\"\n      }\n    },\n    {\n      \"column\": 9,\n      \"properties\": {\n        \"dtype\": \"number\",\n        \"std\": 1.1240542373550149,\n        \"min\": 0.0,\n        \"max\": 30.2530212402344,\n        \"num_unique_values\": 40255,\n        \"samples\": [\n          25.3082885742187,\n          26.9925231933594,\n          25.5268859863281\n        ],\n        \"semantic_type\": \"\",\n        \"description\": \"\"\n      }\n    },\n    {\n      \"column\": 10,\n      \"properties\": {\n        \"dtype\": \"number\",\n        \"std\": 1.561089085562451,\n        \"min\": 31.2279586791992,\n        \"max\": 41.4717788696289,\n        \"num_unique_values\": 46834,\n        \"samples\": [\n          36.4920654296875,\n          34.0230331420898,\n          34.2217864990234\n        ],\n        \"semantic_type\": \"\",\n        \"description\": \"\"\n      }\n    },\n    {\n      \"column\": 11,\n      \"properties\": {\n        \"dtype\": \"number\",\n        \"std\": 0.039868398331068144,\n        \"min\": 11.095064163208,\n        \"max\": 12.2238464355469,\n        \"num_unique_values\": 30330,\n        \"samples\": [\n          11.6659965515137,\n          11.6884078979492,\n          11.6677465438843\n        ],\n        \"semantic_type\": \"\",\n        \"description\": \"\"\n      }\n    },\n    {\n      \"column\": 12,\n      \"properties\": {\n        \"dtype\": \"number\",\n        \"std\": 0.02962749382045381,\n        \"min\": 4.81426239013672,\n        \"max\": 5.18659448623657,\n        \"num_unique_values\": 46296,\n        \"samples\": [\n          5.02556753158569,\n          4.99641990661621,\n          5.04894781112671\n        ],\n        \"semantic_type\": \"\",\n        \"description\": \"\"\n      }\n    }\n  ]\n}"
            }
          },
          "metadata": {},
          "execution_count": 20
        }
      ]
    },
    {
      "cell_type": "code",
      "source": [
        "PM10= df[2]\n",
        "PM25=df[3]\n",
        "PMmix=df[4]\n",
        "temp=df[6]\n",
        "Pres=df[7]\n",
        "RH=df[8]"
      ],
      "metadata": {
        "id": "vhKndp4KJahi"
      },
      "execution_count": 12,
      "outputs": []
    },
    {
      "cell_type": "code",
      "source": [
        "variable=['$PM_{10}$', '$PM_{2.5}$', '$PM_{mix}$','f','P','RH',]\n",
        "colors= ['black','red','blue','green','orange','brown']"
      ],
      "metadata": {
        "id": "SQK8hPaNJ9qh"
      },
      "execution_count": 13,
      "outputs": []
    },
    {
      "cell_type": "code",
      "source": [
        "def plot_var(var, index,lim_min,lim_max):\n",
        "  plt.figure(figsize=(15,2))\n",
        "  plt.plot(var.iloc[lim_min:lim_max],color=colors[index],label=variable[index])\n",
        "  plt.xlabel('Tiempo',fontsize=12)\n",
        "  plt.ylabel(f'{variable[index]}', fontsize=12)\n",
        "  plt.legend()\n",
        "  plt.grid(True)\n",
        "  plt.show()"
      ],
      "metadata": {
        "id": "Kpt3M_siKPow"
      },
      "execution_count": 14,
      "outputs": []
    },
    {
      "cell_type": "code",
      "source": [
        "print(len(df))\n",
        "index=3\n",
        "plot_var(RH,index,0,50000)"
      ],
      "metadata": {
        "colab": {
          "base_uri": "https://localhost:8080/",
          "height": 255
        },
        "id": "p90dC3eWYCzo",
        "outputId": "e2edb9f5-b072-46ff-e4af-44410f6ff895"
      },
      "execution_count": 22,
      "outputs": [
        {
          "output_type": "stream",
          "name": "stdout",
          "text": [
            "52179\n"
          ]
        },
        {
          "output_type": "display_data",
          "data": {
            "text/plain": [
              "<Figure size 1500x200 with 1 Axes>"
            ],
            "image/png": "[encoded data removed]"
          },
          "metadata": {}
        }
      ]
    },
    {
      "cell_type": "code",
      "source": [
        "df.skew(numeric_only=True) #VALORES NUMERICOS"
      ],
      "metadata": {
        "colab": {
          "base_uri": "https://localhost:8080/",
          "height": 429
        },
        "id": "UQdrJIsaKtkQ",
        "outputId": "3907aec5-a262-430a-ed37-76ef6a3b8ae5"
      },
      "execution_count": 5,
      "outputs": [
        {
          "output_type": "execute_result",
          "data": {
            "text/plain": [
              "2     2.627921\n",
              "3     0.689481\n",
              "4     3.799422\n",
              "5     1.763857\n",
              "6     0.178861\n",
              "7     0.272153\n",
              "8    -0.895409\n",
              "9     0.437827\n",
              "10    1.702012\n",
              "11    0.561093\n",
              "12   -0.091937\n",
              "dtype: float64"
            ],
            "text/html": [
              "<div>\n",
              "<style scoped>\n",
              "    .dataframe tbody tr th:only-of-type {\n",
              "        vertical-align: middle;\n",
              "    }\n",
              "\n",
              "    .dataframe tbody tr th {\n",
              "        vertical-align: top;\n",
              "    }\n",
              "\n",
              "    .dataframe thead th {\n",
              "        text-align: right;\n",
              "    }\n",
              "</style>\n",
              "<table border=\"1\" class=\"dataframe\">\n",
              "  <thead>\n",
              "    <tr style=\"text-align: right;\">\n",
              "      <th></th>\n",
              "      <th>0</th>\n",
              "    </tr>\n",
              "  </thead>\n",
              "  <tbody>\n",
              "    <tr>\n",
              "      <th>2</th>\n",
              "      <td>2.627921</td>\n",
              "    </tr>\n",
              "    <tr>\n",
              "      <th>3</th>\n",
              "      <td>0.689481</td>\n",
              "    </tr>\n",
              "    <tr>\n",
              "      <th>4</th>\n",
              "      <td>3.799422</td>\n",
              "    </tr>\n",
              "    <tr>\n",
              "      <th>5</th>\n",
              "      <td>1.763857</td>\n",
              "    </tr>\n",
              "    <tr>\n",
              "      <th>6</th>\n",
              "      <td>0.178861</td>\n",
              "    </tr>\n",
              "    <tr>\n",
              "      <th>7</th>\n",
              "      <td>0.272153</td>\n",
              "    </tr>\n",
              "    <tr>\n",
              "      <th>8</th>\n",
              "      <td>-0.895409</td>\n",
              "    </tr>\n",
              "    <tr>\n",
              "      <th>9</th>\n",
              "      <td>0.437827</td>\n",
              "    </tr>\n",
              "    <tr>\n",
              "      <th>10</th>\n",
              "      <td>1.702012</td>\n",
              "    </tr>\n",
              "    <tr>\n",
              "      <th>11</th>\n",
              "      <td>0.561093</td>\n",
              "    </tr>\n",
              "    <tr>\n",
              "      <th>12</th>\n",
              "      <td>-0.091937</td>\n",
              "    </tr>\n",
              "  </tbody>\n",
              "</table>\n",
              "</div><br><label><b>dtype:</b> float64</label>"
            ]
          },
          "metadata": {},
          "execution_count": 5
        }
      ]
    },
    {
      "cell_type": "code",
      "source": [
        "sns.histplot(PM10,color='red'\n",
        "             )"
      ],
      "metadata": {
        "colab": {
          "base_uri": "https://localhost:8080/",
          "height": 466
        },
        "id": "y8ydfQnIK5MS",
        "outputId": "54f1674c-c39d-45a2-b547-bda188737748"
      },
      "execution_count": 25,
      "outputs": [
        {
          "output_type": "execute_result",
          "data": {
            "text/plain": [
              "<Axes: xlabel='2', ylabel='Count'>"
            ]
          },
          "metadata": {},
          "execution_count": 25
        },
        {
          "output_type": "display_data",
          "data": {
            "text/plain": [
              "<Figure size 640x480 with 1 Axes>"
            ],
            "image/png": "[encoded data removed]"
          },
          "metadata": {}
        }
      ]
    },
    {
      "cell_type": "code",
      "source": [
        "df.kurt(numeric_only=True)"
      ],
      "metadata": {
        "colab": {
          "base_uri": "https://localhost:8080/",
          "height": 429
        },
        "id": "cMGgMeeyLMZp",
        "outputId": "d6944e75-7898-4ff2-d260-71b74371d4a4"
      },
      "execution_count": 17,
      "outputs": [
        {
          "output_type": "execute_result",
          "data": {
            "text/plain": [
              "2     17.602749\n",
              "3      0.728258\n",
              "4     28.249759\n",
              "5      2.810165\n",
              "6     -0.996193\n",
              "7     -0.165019\n",
              "8     -0.111215\n",
              "9      6.155148\n",
              "10     2.888641\n",
              "11    46.158682\n",
              "12     0.807706\n",
              "dtype: float64"
            ],
            "text/html": [
              "<div>\n",
              "<style scoped>\n",
              "    .dataframe tbody tr th:only-of-type {\n",
              "        vertical-align: middle;\n",
              "    }\n",
              "\n",
              "    .dataframe tbody tr th {\n",
              "        vertical-align: top;\n",
              "    }\n",
              "\n",
              "    .dataframe thead th {\n",
              "        text-align: right;\n",
              "    }\n",
              "</style>\n",
              "<table border=\"1\" class=\"dataframe\">\n",
              "  <thead>\n",
              "    <tr style=\"text-align: right;\">\n",
              "      <th></th>\n",
              "      <th>0</th>\n",
              "    </tr>\n",
              "  </thead>\n",
              "  <tbody>\n",
              "    <tr>\n",
              "      <th>2</th>\n",
              "      <td>17.602749</td>\n",
              "    </tr>\n",
              "    <tr>\n",
              "      <th>3</th>\n",
              "      <td>0.728258</td>\n",
              "    </tr>\n",
              "    <tr>\n",
              "      <th>4</th>\n",
              "      <td>28.249759</td>\n",
              "    </tr>\n",
              "    <tr>\n",
              "      <th>5</th>\n",
              "      <td>2.810165</td>\n",
              "    </tr>\n",
              "    <tr>\n",
              "      <th>6</th>\n",
              "      <td>-0.996193</td>\n",
              "    </tr>\n",
              "    <tr>\n",
              "      <th>7</th>\n",
              "      <td>-0.165019</td>\n",
              "    </tr>\n",
              "    <tr>\n",
              "      <th>8</th>\n",
              "      <td>-0.111215</td>\n",
              "    </tr>\n",
              "    <tr>\n",
              "      <th>9</th>\n",
              "      <td>6.155148</td>\n",
              "    </tr>\n",
              "    <tr>\n",
              "      <th>10</th>\n",
              "      <td>2.888641</td>\n",
              "    </tr>\n",
              "    <tr>\n",
              "      <th>11</th>\n",
              "      <td>46.158682</td>\n",
              "    </tr>\n",
              "    <tr>\n",
              "      <th>12</th>\n",
              "      <td>0.807706</td>\n",
              "    </tr>\n",
              "  </tbody>\n",
              "</table>\n",
              "</div><br><label><b>dtype:</b> float64</label>"
            ]
          },
          "metadata": {},
          "execution_count": 17
        }
      ]
    },
    {
      "cell_type": "code",
      "source": [
        "#calcular la correlacion\n",
        "\n",
        "correlation0 = df[3].corr(df[2],method='spearman')\n",
        "correlation1 = df[3].corr(df[4],method='spearman')\n",
        "correlation2 = df[3].corr(df[6],method='spearman')\n",
        "correlation3 = df[3].corr(df[7],method='spearman')\n",
        "correlation4 = df[3].corr(df[8],method='spearman')\n",
        "\n",
        "print(f\"Correlacion PM2.5 Y PM10: {correlation0}\")\n",
        "print(f\"Correlacion PM2.5 Y PMmix: {correlation1}\")\n",
        "print(f\"Correlacion PM2.5 Y Temp: {correlation2}\")\n",
        "print(f\"Correlacion PM2.5 Y Press: {correlation3}\")\n",
        "print(f\"Correlacion PM2.5 Y RH: {correlation4}\")"
      ],
      "metadata": {
        "colab": {
          "base_uri": "https://localhost:8080/"
        },
        "id": "jYrXd_24LhjB",
        "outputId": "c8ab1b32-4be0-4a27-854d-673367f4713a"
      },
      "execution_count": 18,
      "outputs": [
        {
          "output_type": "stream",
          "name": "stdout",
          "text": [
            "Correlacion PM2.5 Y PM10: 0.6628288269857316\n",
            "Correlacion PM2.5 Y PMmix: 0.19378730709920722\n",
            "Correlacion PM2.5 Y Temp: 0.03153504569097056\n",
            "Correlacion PM2.5 Y Press: 0.005900923429563776\n",
            "Correlacion PM2.5 Y RH: 0.415282630428508\n"
          ]
        }
      ]
    },
    {
      "cell_type": "code",
      "source": [
        "print(temp)"
      ],
      "metadata": {
        "colab": {
          "base_uri": "https://localhost:8080/"
        },
        "id": "McNiNVJOMxcn",
        "outputId": "ef497d8d-05b4-47f3-c5cd-817f2c9827b0"
      },
      "execution_count": 28,
      "outputs": [
        {
          "output_type": "stream",
          "name": "stdout",
          "text": [
            "fechas\n",
            "2024-04-04 00:00:00    19.350910\n",
            "2024-04-04 00:01:00    19.340763\n",
            "2024-04-04 00:02:00    19.335342\n",
            "2024-04-04 00:03:00    19.330561\n",
            "2024-04-04 00:04:00    19.308531\n",
            "                         ...    \n",
            "2024-05-10 11:00:00    27.933237\n",
            "2024-05-10 11:01:00    27.841600\n",
            "2024-05-10 11:02:00    27.891018\n",
            "2024-05-10 11:03:00    27.694765\n",
            "2024-05-10 11:04:00    27.570236\n",
            "Name: 6, Length: 52179, dtype: float64\n"
          ]
        }
      ]
    },
    {
      "cell_type": "code",
      "source": [
        "##Date & Time (Local), Date & Time (UTC), PM10 Conc, PM25 Conc, PM10-25 Conc, Sample Temp, Ambient Temp, Ambient Pressure, Sample RH, Box Temp, LED Temp, Bypass Flow, Sample Flow"
      ],
      "metadata": {
        "id": "z-frrZKBNGtH"
      },
      "execution_count": null,
      "outputs": []
    },
    {
      "cell_type": "markdown",
      "source": [
        "##Date & Time (Local), Date & Time (UTC), PM10 Conc, PM25 Conc, PM10-25 Conc, Sample Temp, Ambient Temp, Ambient Pressure, Sample RH, Box Temp, LED Temp, Bypass Flow, Sample Flow"
      ],
      "metadata": {
        "id": "VReQzSw_NIXP"
      }
    },
    {
      "cell_type": "code",
      "source": [
        "Data_in = np.column_stack([temp, Pres,RH])\n",
        "Data_out = np.column_stack([PM25])\n",
        "print(Data_in)\n",
        "print(len(Data_in))"
      ],
      "metadata": {
        "colab": {
          "base_uri": "https://localhost:8080/"
        },
        "id": "hNk3EJ4hMXwH",
        "outputId": "8b29bb00-69b9-4253-e265-5bea2438a601"
      },
      "execution_count": 29,
      "outputs": [
        {
          "output_type": "stream",
          "name": "stdout",
          "text": [
            "[[19.35091019 77.82701111 28.03559875]\n",
            " [19.34076309 77.81798553 27.91969872]\n",
            " [19.33534241 77.82086945 27.93799973]\n",
            " ...\n",
            " [27.89101791 78.05047607 26.26659966]\n",
            " [27.69476509 78.07154846 25.30279922]\n",
            " [27.57023621 78.05378723 24.47929955]]\n",
            "52179\n"
          ]
        }
      ]
    },
    {
      "cell_type": "markdown",
      "source": [
        "generacion de modelos con redes neuronales"
      ],
      "metadata": {
        "id": "sEVo0Yv_NXsG"
      }
    },
    {
      "cell_type": "code",
      "source": [
        "Data_out.shape #numero de filas y columnas"
      ],
      "metadata": {
        "colab": {
          "base_uri": "https://localhost:8080/"
        },
        "id": "24d_Zl5PNcxg",
        "outputId": "227356a0-3160-4acd-98e2-9892b5b18386"
      },
      "execution_count": 30,
      "outputs": [
        {
          "output_type": "execute_result",
          "data": {
            "text/plain": [
              "(52179, 1)"
            ]
          },
          "metadata": {},
          "execution_count": 30
        }
      ]
    },
    {
      "cell_type": "code",
      "source": [
        "model=tf.keras.Sequential([\n",
        "    tf.keras.layers.Dense(3, activation='linear',input_shape=(Data_in.shape[1],)),\n",
        "                          tf.keras.layers.Dense(1,activation='linear')])"
      ],
      "metadata": {
        "colab": {
          "base_uri": "https://localhost:8080/"
        },
        "id": "Me7J8zkxNs5u",
        "outputId": "bf17c012-3ea8-4cda-bfe5-c885f1c1a8fb"
      },
      "execution_count": 31,
      "outputs": [
        {
          "output_type": "stream",
          "name": "stderr",
          "text": [
            "/usr/local/lib/python3.10/dist-packages/keras/src/layers/core/dense.py:87: UserWarning: Do not pass an `input_shape`/`input_dim` argument to a layer. When using Sequential models, prefer using an `Input(shape)` object as the first layer in the model instead.\n",
            "  super().__init__(activity_regularizer=activity_regularizer, **kwargs)\n"
          ]
        }
      ]
    },
    {
      "cell_type": "code",
      "source": [
        "model.summary()"
      ],
      "metadata": {
        "colab": {
          "base_uri": "https://localhost:8080/",
          "height": 204
        },
        "id": "3gc0cTEoPKqb",
        "outputId": "b118752c-ecad-40dd-e8e0-a5010503e34f"
      },
      "execution_count": 33,
      "outputs": [
        {
          "output_type": "display_data",
          "data": {
            "text/plain": [
              "\u001b[1mModel: \"sequential\"\u001b[0m\n"
            ],
            "text/html": [
              "<pre style=\"white-space:pre;overflow-x:auto;line-height:normal;font-family:Menlo,'DejaVu Sans Mono',consolas,'Courier New',monospace\"><span style=\"font-weight: bold\">Model: \"sequential\"</span>\n",
              "</pre>\n"
            ]
          },
          "metadata": {}
        },
        {
          "output_type": "display_data",
          "data": {
            "text/plain": [
              "┏━━━━━━━━━━━━━━━━━━━━━━━━━━━━━━━━━━━━━━┳━━━━━━━━━━━━━━━━━━━━━━━━━━━━━┳━━━━━━━━━━━━━━━━━┓\n",
              "┃\u001b[1m \u001b[0m\u001b[1mLayer (type)                        \u001b[0m\u001b[1m \u001b[0m┃\u001b[1m \u001b[0m\u001b[1mOutput Shape               \u001b[0m\u001b[1m \u001b[0m┃\u001b[1m \u001b[0m\u001b[1m        Param #\u001b[0m\u001b[1m \u001b[0m┃\n",
              "┡━━━━━━━━━━━━━━━━━━━━━━━━━━━━━━━━━━━━━━╇━━━━━━━━━━━━━━━━━━━━━━━━━━━━━╇━━━━━━━━━━━━━━━━━┩\n",
              "│ dense (\u001b[38;5;33mDense\u001b[0m)                        │ (\u001b[38;5;45mNone\u001b[0m, \u001b[38;5;34m3\u001b[0m)                   │              \u001b[38;5;34m12\u001b[0m │\n",
              "├──────────────────────────────────────┼─────────────────────────────┼─────────────────┤\n",
              "│ dense_1 (\u001b[38;5;33mDense\u001b[0m)                      │ (\u001b[38;5;45mNone\u001b[0m, \u001b[38;5;34m1\u001b[0m)                   │               \u001b[38;5;34m4\u001b[0m │\n",
              "└──────────────────────────────────────┴─────────────────────────────┴─────────────────┘\n"
            ],
            "text/html": [
              "<pre style=\"white-space:pre;overflow-x:auto;line-height:normal;font-family:Menlo,'DejaVu Sans Mono',consolas,'Courier New',monospace\">┏━━━━━━━━━━━━━━━━━━━━━━━━━━━━━━━━━━━━━━┳━━━━━━━━━━━━━━━━━━━━━━━━━━━━━┳━━━━━━━━━━━━━━━━━┓\n",
              "┃<span style=\"font-weight: bold\"> Layer (type)                         </span>┃<span style=\"font-weight: bold\"> Output Shape                </span>┃<span style=\"font-weight: bold\">         Param # </span>┃\n",
              "┡━━━━━━━━━━━━━━━━━━━━━━━━━━━━━━━━━━━━━━╇━━━━━━━━━━━━━━━━━━━━━━━━━━━━━╇━━━━━━━━━━━━━━━━━┩\n",
              "│ dense (<span style=\"color: #0087ff; text-decoration-color: #0087ff\">Dense</span>)                        │ (<span style=\"color: #00d7ff; text-decoration-color: #00d7ff\">None</span>, <span style=\"color: #00af00; text-decoration-color: #00af00\">3</span>)                   │              <span style=\"color: #00af00; text-decoration-color: #00af00\">12</span> │\n",
              "├──────────────────────────────────────┼─────────────────────────────┼─────────────────┤\n",
              "│ dense_1 (<span style=\"color: #0087ff; text-decoration-color: #0087ff\">Dense</span>)                      │ (<span style=\"color: #00d7ff; text-decoration-color: #00d7ff\">None</span>, <span style=\"color: #00af00; text-decoration-color: #00af00\">1</span>)                   │               <span style=\"color: #00af00; text-decoration-color: #00af00\">4</span> │\n",
              "└──────────────────────────────────────┴─────────────────────────────┴─────────────────┘\n",
              "</pre>\n"
            ]
          },
          "metadata": {}
        },
        {
          "output_type": "display_data",
          "data": {
            "text/plain": [
              "\u001b[1m Total params: \u001b[0m\u001b[38;5;34m16\u001b[0m (64.00 B)\n"
            ],
            "text/html": [
              "<pre style=\"white-space:pre;overflow-x:auto;line-height:normal;font-family:Menlo,'DejaVu Sans Mono',consolas,'Courier New',monospace\"><span style=\"font-weight: bold\"> Total params: </span><span style=\"color: #00af00; text-decoration-color: #00af00\">16</span> (64.00 B)\n",
              "</pre>\n"
            ]
          },
          "metadata": {}
        },
        {
          "output_type": "display_data",
          "data": {
            "text/plain": [
              "\u001b[1m Trainable params: \u001b[0m\u001b[38;5;34m16\u001b[0m (64.00 B)\n"
            ],
            "text/html": [
              "<pre style=\"white-space:pre;overflow-x:auto;line-height:normal;font-family:Menlo,'DejaVu Sans Mono',consolas,'Courier New',monospace\"><span style=\"font-weight: bold\"> Trainable params: </span><span style=\"color: #00af00; text-decoration-color: #00af00\">16</span> (64.00 B)\n",
              "</pre>\n"
            ]
          },
          "metadata": {}
        },
        {
          "output_type": "display_data",
          "data": {
            "text/plain": [
              "\u001b[1m Non-trainable params: \u001b[0m\u001b[38;5;34m0\u001b[0m (0.00 B)\n"
            ],
            "text/html": [
              "<pre style=\"white-space:pre;overflow-x:auto;line-height:normal;font-family:Menlo,'DejaVu Sans Mono',consolas,'Courier New',monospace\"><span style=\"font-weight: bold\"> Non-trainable params: </span><span style=\"color: #00af00; text-decoration-color: #00af00\">0</span> (0.00 B)\n",
              "</pre>\n"
            ]
          },
          "metadata": {}
        }
      ]
    },
    {
      "cell_type": "code",
      "source": [
        "from sklearn.model_selection import train_test_split\n",
        "X_train, X_test, y_train, y_test=train_test_split(Data_in,Data_out, test_size=0.2,random_state=42)"
      ],
      "metadata": {
        "id": "zVdtld46bsAE"
      },
      "execution_count": 34,
      "outputs": []
    },
    {
      "cell_type": "code",
      "source": [
        "print(Data_in[:5])\n",
        "print(X_train[:5])"
      ],
      "metadata": {
        "colab": {
          "base_uri": "https://localhost:8080/"
        },
        "id": "kZylZ4kxcWSx",
        "outputId": "eaaaefa6-2a31-4d17-eabe-ff35e7c29147"
      },
      "execution_count": 35,
      "outputs": [
        {
          "output_type": "stream",
          "name": "stdout",
          "text": [
            "[[19.35091019 77.82701111 28.03559875]\n",
            " [19.34076309 77.81798553 27.91969872]\n",
            " [19.33534241 77.82086945 27.93799973]\n",
            " [19.33056068 77.81481171 27.95629883]\n",
            " [19.30853081 77.83013153 27.95629883]]\n",
            "[[24.13035774 77.91934967 29.98759842]\n",
            " [16.16941452 78.06840515 21.11209869]\n",
            " [27.22885513 77.9575119  29.09699821]\n",
            " [13.59325886 78.20446777 34.78219986]\n",
            " [23.71559715 78.21208191 27.52319908]]\n"
          ]
        }
      ]
    }
  ]
}